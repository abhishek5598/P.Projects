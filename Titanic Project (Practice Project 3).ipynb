{
 "cells": [
  {
   "cell_type": "code",
   "execution_count": 60,
   "id": "a0ea6750",
   "metadata": {},
   "outputs": [],
   "source": [
    "import pandas as pd\n",
    "import warnings\n",
    "warnings.filterwarnings(\"ignore\")"
   ]
  },
  {
   "cell_type": "code",
   "execution_count": 61,
   "id": "f5cbe252",
   "metadata": {},
   "outputs": [
    {
     "data": {
      "text/html": [
       "<div>\n",
       "<style scoped>\n",
       "    .dataframe tbody tr th:only-of-type {\n",
       "        vertical-align: middle;\n",
       "    }\n",
       "\n",
       "    .dataframe tbody tr th {\n",
       "        vertical-align: top;\n",
       "    }\n",
       "\n",
       "    .dataframe thead th {\n",
       "        text-align: right;\n",
       "    }\n",
       "</style>\n",
       "<table border=\"1\" class=\"dataframe\">\n",
       "  <thead>\n",
       "    <tr style=\"text-align: right;\">\n",
       "      <th></th>\n",
       "      <th>PassengerId</th>\n",
       "      <th>Survived</th>\n",
       "      <th>Pclass</th>\n",
       "      <th>Name</th>\n",
       "      <th>Sex</th>\n",
       "      <th>Age</th>\n",
       "      <th>SibSp</th>\n",
       "      <th>Parch</th>\n",
       "      <th>Ticket</th>\n",
       "      <th>Fare</th>\n",
       "      <th>Cabin</th>\n",
       "      <th>Embarked</th>\n",
       "    </tr>\n",
       "  </thead>\n",
       "  <tbody>\n",
       "    <tr>\n",
       "      <th>0</th>\n",
       "      <td>1</td>\n",
       "      <td>0</td>\n",
       "      <td>3</td>\n",
       "      <td>Braund, Mr. Owen Harris</td>\n",
       "      <td>male</td>\n",
       "      <td>22.0</td>\n",
       "      <td>1</td>\n",
       "      <td>0</td>\n",
       "      <td>A/5 21171</td>\n",
       "      <td>7.2500</td>\n",
       "      <td>NaN</td>\n",
       "      <td>S</td>\n",
       "    </tr>\n",
       "    <tr>\n",
       "      <th>1</th>\n",
       "      <td>2</td>\n",
       "      <td>1</td>\n",
       "      <td>1</td>\n",
       "      <td>Cumings, Mrs. John Bradley (Florence Briggs Th...</td>\n",
       "      <td>female</td>\n",
       "      <td>38.0</td>\n",
       "      <td>1</td>\n",
       "      <td>0</td>\n",
       "      <td>PC 17599</td>\n",
       "      <td>71.2833</td>\n",
       "      <td>C85</td>\n",
       "      <td>C</td>\n",
       "    </tr>\n",
       "    <tr>\n",
       "      <th>2</th>\n",
       "      <td>3</td>\n",
       "      <td>1</td>\n",
       "      <td>3</td>\n",
       "      <td>Heikkinen, Miss. Laina</td>\n",
       "      <td>female</td>\n",
       "      <td>26.0</td>\n",
       "      <td>0</td>\n",
       "      <td>0</td>\n",
       "      <td>STON/O2. 3101282</td>\n",
       "      <td>7.9250</td>\n",
       "      <td>NaN</td>\n",
       "      <td>S</td>\n",
       "    </tr>\n",
       "    <tr>\n",
       "      <th>3</th>\n",
       "      <td>4</td>\n",
       "      <td>1</td>\n",
       "      <td>1</td>\n",
       "      <td>Futrelle, Mrs. Jacques Heath (Lily May Peel)</td>\n",
       "      <td>female</td>\n",
       "      <td>35.0</td>\n",
       "      <td>1</td>\n",
       "      <td>0</td>\n",
       "      <td>113803</td>\n",
       "      <td>53.1000</td>\n",
       "      <td>C123</td>\n",
       "      <td>S</td>\n",
       "    </tr>\n",
       "    <tr>\n",
       "      <th>4</th>\n",
       "      <td>5</td>\n",
       "      <td>0</td>\n",
       "      <td>3</td>\n",
       "      <td>Allen, Mr. William Henry</td>\n",
       "      <td>male</td>\n",
       "      <td>35.0</td>\n",
       "      <td>0</td>\n",
       "      <td>0</td>\n",
       "      <td>373450</td>\n",
       "      <td>8.0500</td>\n",
       "      <td>NaN</td>\n",
       "      <td>S</td>\n",
       "    </tr>\n",
       "    <tr>\n",
       "      <th>...</th>\n",
       "      <td>...</td>\n",
       "      <td>...</td>\n",
       "      <td>...</td>\n",
       "      <td>...</td>\n",
       "      <td>...</td>\n",
       "      <td>...</td>\n",
       "      <td>...</td>\n",
       "      <td>...</td>\n",
       "      <td>...</td>\n",
       "      <td>...</td>\n",
       "      <td>...</td>\n",
       "      <td>...</td>\n",
       "    </tr>\n",
       "    <tr>\n",
       "      <th>886</th>\n",
       "      <td>887</td>\n",
       "      <td>0</td>\n",
       "      <td>2</td>\n",
       "      <td>Montvila, Rev. Juozas</td>\n",
       "      <td>male</td>\n",
       "      <td>27.0</td>\n",
       "      <td>0</td>\n",
       "      <td>0</td>\n",
       "      <td>211536</td>\n",
       "      <td>13.0000</td>\n",
       "      <td>NaN</td>\n",
       "      <td>S</td>\n",
       "    </tr>\n",
       "    <tr>\n",
       "      <th>887</th>\n",
       "      <td>888</td>\n",
       "      <td>1</td>\n",
       "      <td>1</td>\n",
       "      <td>Graham, Miss. Margaret Edith</td>\n",
       "      <td>female</td>\n",
       "      <td>19.0</td>\n",
       "      <td>0</td>\n",
       "      <td>0</td>\n",
       "      <td>112053</td>\n",
       "      <td>30.0000</td>\n",
       "      <td>B42</td>\n",
       "      <td>S</td>\n",
       "    </tr>\n",
       "    <tr>\n",
       "      <th>888</th>\n",
       "      <td>889</td>\n",
       "      <td>0</td>\n",
       "      <td>3</td>\n",
       "      <td>Johnston, Miss. Catherine Helen \"Carrie\"</td>\n",
       "      <td>female</td>\n",
       "      <td>NaN</td>\n",
       "      <td>1</td>\n",
       "      <td>2</td>\n",
       "      <td>W./C. 6607</td>\n",
       "      <td>23.4500</td>\n",
       "      <td>NaN</td>\n",
       "      <td>S</td>\n",
       "    </tr>\n",
       "    <tr>\n",
       "      <th>889</th>\n",
       "      <td>890</td>\n",
       "      <td>1</td>\n",
       "      <td>1</td>\n",
       "      <td>Behr, Mr. Karl Howell</td>\n",
       "      <td>male</td>\n",
       "      <td>26.0</td>\n",
       "      <td>0</td>\n",
       "      <td>0</td>\n",
       "      <td>111369</td>\n",
       "      <td>30.0000</td>\n",
       "      <td>C148</td>\n",
       "      <td>C</td>\n",
       "    </tr>\n",
       "    <tr>\n",
       "      <th>890</th>\n",
       "      <td>891</td>\n",
       "      <td>0</td>\n",
       "      <td>3</td>\n",
       "      <td>Dooley, Mr. Patrick</td>\n",
       "      <td>male</td>\n",
       "      <td>32.0</td>\n",
       "      <td>0</td>\n",
       "      <td>0</td>\n",
       "      <td>370376</td>\n",
       "      <td>7.7500</td>\n",
       "      <td>NaN</td>\n",
       "      <td>Q</td>\n",
       "    </tr>\n",
       "  </tbody>\n",
       "</table>\n",
       "<p>891 rows × 12 columns</p>\n",
       "</div>"
      ],
      "text/plain": [
       "     PassengerId  Survived  Pclass  \\\n",
       "0              1         0       3   \n",
       "1              2         1       1   \n",
       "2              3         1       3   \n",
       "3              4         1       1   \n",
       "4              5         0       3   \n",
       "..           ...       ...     ...   \n",
       "886          887         0       2   \n",
       "887          888         1       1   \n",
       "888          889         0       3   \n",
       "889          890         1       1   \n",
       "890          891         0       3   \n",
       "\n",
       "                                                  Name     Sex   Age  SibSp  \\\n",
       "0                              Braund, Mr. Owen Harris    male  22.0      1   \n",
       "1    Cumings, Mrs. John Bradley (Florence Briggs Th...  female  38.0      1   \n",
       "2                               Heikkinen, Miss. Laina  female  26.0      0   \n",
       "3         Futrelle, Mrs. Jacques Heath (Lily May Peel)  female  35.0      1   \n",
       "4                             Allen, Mr. William Henry    male  35.0      0   \n",
       "..                                                 ...     ...   ...    ...   \n",
       "886                              Montvila, Rev. Juozas    male  27.0      0   \n",
       "887                       Graham, Miss. Margaret Edith  female  19.0      0   \n",
       "888           Johnston, Miss. Catherine Helen \"Carrie\"  female   NaN      1   \n",
       "889                              Behr, Mr. Karl Howell    male  26.0      0   \n",
       "890                                Dooley, Mr. Patrick    male  32.0      0   \n",
       "\n",
       "     Parch            Ticket     Fare Cabin Embarked  \n",
       "0        0         A/5 21171   7.2500   NaN        S  \n",
       "1        0          PC 17599  71.2833   C85        C  \n",
       "2        0  STON/O2. 3101282   7.9250   NaN        S  \n",
       "3        0            113803  53.1000  C123        S  \n",
       "4        0            373450   8.0500   NaN        S  \n",
       "..     ...               ...      ...   ...      ...  \n",
       "886      0            211536  13.0000   NaN        S  \n",
       "887      0            112053  30.0000   B42        S  \n",
       "888      2        W./C. 6607  23.4500   NaN        S  \n",
       "889      0            111369  30.0000  C148        C  \n",
       "890      0            370376   7.7500   NaN        Q  \n",
       "\n",
       "[891 rows x 12 columns]"
      ]
     },
     "execution_count": 61,
     "metadata": {},
     "output_type": "execute_result"
    }
   ],
   "source": [
    "df=pd.read_csv(\"titanic.csv\")\n",
    "df\n",
    "               "
   ]
  },
  {
   "cell_type": "code",
   "execution_count": 62,
   "id": "f0de66b5",
   "metadata": {},
   "outputs": [
    {
     "data": {
      "text/plain": [
       "(891, 12)"
      ]
     },
     "execution_count": 62,
     "metadata": {},
     "output_type": "execute_result"
    }
   ],
   "source": [
    "df.shape"
   ]
  },
  {
   "cell_type": "markdown",
   "id": "2c552efc",
   "metadata": {},
   "source": [
    "Dropping the unuseful columns as these columns do not affect the model\n",
    "1.passengerID\n",
    "2.Name\n",
    "3.Ticket"
   ]
  },
  {
   "cell_type": "code",
   "execution_count": 63,
   "id": "db243299",
   "metadata": {},
   "outputs": [],
   "source": [
    "df.drop(columns=[\"PassengerId\",\"Name\",\"Ticket\"],axis=1,inplace=True)"
   ]
  },
  {
   "cell_type": "code",
   "execution_count": 64,
   "id": "e2eb2e58",
   "metadata": {},
   "outputs": [
    {
     "data": {
      "text/plain": [
       "(891, 9)"
      ]
     },
     "execution_count": 64,
     "metadata": {},
     "output_type": "execute_result"
    }
   ],
   "source": [
    "#new shape of the dataset\n",
    "df.shape"
   ]
  },
  {
   "cell_type": "code",
   "execution_count": 65,
   "id": "5002ba17",
   "metadata": {},
   "outputs": [
    {
     "data": {
      "text/html": [
       "<div>\n",
       "<style scoped>\n",
       "    .dataframe tbody tr th:only-of-type {\n",
       "        vertical-align: middle;\n",
       "    }\n",
       "\n",
       "    .dataframe tbody tr th {\n",
       "        vertical-align: top;\n",
       "    }\n",
       "\n",
       "    .dataframe thead th {\n",
       "        text-align: right;\n",
       "    }\n",
       "</style>\n",
       "<table border=\"1\" class=\"dataframe\">\n",
       "  <thead>\n",
       "    <tr style=\"text-align: right;\">\n",
       "      <th></th>\n",
       "      <th>Survived</th>\n",
       "      <th>Pclass</th>\n",
       "      <th>Sex</th>\n",
       "      <th>Age</th>\n",
       "      <th>SibSp</th>\n",
       "      <th>Parch</th>\n",
       "      <th>Fare</th>\n",
       "      <th>Cabin</th>\n",
       "      <th>Embarked</th>\n",
       "    </tr>\n",
       "  </thead>\n",
       "  <tbody>\n",
       "    <tr>\n",
       "      <th>0</th>\n",
       "      <td>0</td>\n",
       "      <td>3</td>\n",
       "      <td>male</td>\n",
       "      <td>22.0</td>\n",
       "      <td>1</td>\n",
       "      <td>0</td>\n",
       "      <td>7.2500</td>\n",
       "      <td>NaN</td>\n",
       "      <td>S</td>\n",
       "    </tr>\n",
       "    <tr>\n",
       "      <th>1</th>\n",
       "      <td>1</td>\n",
       "      <td>1</td>\n",
       "      <td>female</td>\n",
       "      <td>38.0</td>\n",
       "      <td>1</td>\n",
       "      <td>0</td>\n",
       "      <td>71.2833</td>\n",
       "      <td>C85</td>\n",
       "      <td>C</td>\n",
       "    </tr>\n",
       "    <tr>\n",
       "      <th>2</th>\n",
       "      <td>1</td>\n",
       "      <td>3</td>\n",
       "      <td>female</td>\n",
       "      <td>26.0</td>\n",
       "      <td>0</td>\n",
       "      <td>0</td>\n",
       "      <td>7.9250</td>\n",
       "      <td>NaN</td>\n",
       "      <td>S</td>\n",
       "    </tr>\n",
       "    <tr>\n",
       "      <th>3</th>\n",
       "      <td>1</td>\n",
       "      <td>1</td>\n",
       "      <td>female</td>\n",
       "      <td>35.0</td>\n",
       "      <td>1</td>\n",
       "      <td>0</td>\n",
       "      <td>53.1000</td>\n",
       "      <td>C123</td>\n",
       "      <td>S</td>\n",
       "    </tr>\n",
       "    <tr>\n",
       "      <th>4</th>\n",
       "      <td>0</td>\n",
       "      <td>3</td>\n",
       "      <td>male</td>\n",
       "      <td>35.0</td>\n",
       "      <td>0</td>\n",
       "      <td>0</td>\n",
       "      <td>8.0500</td>\n",
       "      <td>NaN</td>\n",
       "      <td>S</td>\n",
       "    </tr>\n",
       "  </tbody>\n",
       "</table>\n",
       "</div>"
      ],
      "text/plain": [
       "   Survived  Pclass     Sex   Age  SibSp  Parch     Fare Cabin Embarked\n",
       "0         0       3    male  22.0      1      0   7.2500   NaN        S\n",
       "1         1       1  female  38.0      1      0  71.2833   C85        C\n",
       "2         1       3  female  26.0      0      0   7.9250   NaN        S\n",
       "3         1       1  female  35.0      1      0  53.1000  C123        S\n",
       "4         0       3    male  35.0      0      0   8.0500   NaN        S"
      ]
     },
     "execution_count": 65,
     "metadata": {},
     "output_type": "execute_result"
    }
   ],
   "source": [
    "df.head()"
   ]
  },
  {
   "cell_type": "markdown",
   "id": "21ec0a5f",
   "metadata": {},
   "source": [
    "# EDA"
   ]
  },
  {
   "cell_type": "code",
   "execution_count": 66,
   "id": "c51ee53c",
   "metadata": {},
   "outputs": [],
   "source": [
    "#Information About The Dataset"
   ]
  },
  {
   "cell_type": "code",
   "execution_count": 67,
   "id": "2fecfa89",
   "metadata": {},
   "outputs": [
    {
     "name": "stdout",
     "output_type": "stream",
     "text": [
      "<class 'pandas.core.frame.DataFrame'>\n",
      "RangeIndex: 891 entries, 0 to 890\n",
      "Data columns (total 9 columns):\n",
      " #   Column    Non-Null Count  Dtype  \n",
      "---  ------    --------------  -----  \n",
      " 0   Survived  891 non-null    int64  \n",
      " 1   Pclass    891 non-null    int64  \n",
      " 2   Sex       891 non-null    object \n",
      " 3   Age       714 non-null    float64\n",
      " 4   SibSp     891 non-null    int64  \n",
      " 5   Parch     891 non-null    int64  \n",
      " 6   Fare      891 non-null    float64\n",
      " 7   Cabin     204 non-null    object \n",
      " 8   Embarked  889 non-null    object \n",
      "dtypes: float64(2), int64(4), object(3)\n",
      "memory usage: 62.8+ KB\n"
     ]
    }
   ],
   "source": [
    "df.info()"
   ]
  },
  {
   "cell_type": "code",
   "execution_count": 68,
   "id": "7b2c74dd",
   "metadata": {},
   "outputs": [],
   "source": [
    "#missing Values for dataset"
   ]
  },
  {
   "cell_type": "code",
   "execution_count": 69,
   "id": "725f6167",
   "metadata": {},
   "outputs": [
    {
     "data": {
      "text/plain": [
       "Survived      0\n",
       "Pclass        0\n",
       "Sex           0\n",
       "Age         177\n",
       "SibSp         0\n",
       "Parch         0\n",
       "Fare          0\n",
       "Cabin       687\n",
       "Embarked      2\n",
       "dtype: int64"
      ]
     },
     "execution_count": 69,
     "metadata": {},
     "output_type": "execute_result"
    }
   ],
   "source": [
    "df.isnull().sum()"
   ]
  },
  {
   "cell_type": "markdown",
   "id": "740d8ef2",
   "metadata": {},
   "source": [
    "It seems that 'Age','Cabin' and 'Embarked' has null values.Lets find out how many percentage they are covering from the dataset."
   ]
  },
  {
   "cell_type": "code",
   "execution_count": 70,
   "id": "8ad45ca4",
   "metadata": {},
   "outputs": [
    {
     "name": "stdout",
     "output_type": "stream",
     "text": [
      "\n",
      "Missing Values for Titanic Data :-\n"
     ]
    },
    {
     "data": {
      "text/html": [
       "<div>\n",
       "<style scoped>\n",
       "    .dataframe tbody tr th:only-of-type {\n",
       "        vertical-align: middle;\n",
       "    }\n",
       "\n",
       "    .dataframe tbody tr th {\n",
       "        vertical-align: top;\n",
       "    }\n",
       "\n",
       "    .dataframe thead th {\n",
       "        text-align: right;\n",
       "    }\n",
       "</style>\n",
       "<table border=\"1\" class=\"dataframe\">\n",
       "  <thead>\n",
       "    <tr style=\"text-align: right;\">\n",
       "      <th></th>\n",
       "      <th>Columns</th>\n",
       "      <th>Missing Values</th>\n",
       "      <th>Missing %</th>\n",
       "    </tr>\n",
       "  </thead>\n",
       "  <tbody>\n",
       "    <tr>\n",
       "      <th>1</th>\n",
       "      <td>Survived</td>\n",
       "      <td>0</td>\n",
       "      <td>0.00</td>\n",
       "    </tr>\n",
       "    <tr>\n",
       "      <th>2</th>\n",
       "      <td>Pclass</td>\n",
       "      <td>0</td>\n",
       "      <td>0.00</td>\n",
       "    </tr>\n",
       "    <tr>\n",
       "      <th>3</th>\n",
       "      <td>Sex</td>\n",
       "      <td>0</td>\n",
       "      <td>0.00</td>\n",
       "    </tr>\n",
       "    <tr>\n",
       "      <th>4</th>\n",
       "      <td>Age</td>\n",
       "      <td>177</td>\n",
       "      <td>19.87</td>\n",
       "    </tr>\n",
       "    <tr>\n",
       "      <th>5</th>\n",
       "      <td>SibSp</td>\n",
       "      <td>0</td>\n",
       "      <td>0.00</td>\n",
       "    </tr>\n",
       "    <tr>\n",
       "      <th>6</th>\n",
       "      <td>Parch</td>\n",
       "      <td>0</td>\n",
       "      <td>0.00</td>\n",
       "    </tr>\n",
       "    <tr>\n",
       "      <th>7</th>\n",
       "      <td>Fare</td>\n",
       "      <td>0</td>\n",
       "      <td>0.00</td>\n",
       "    </tr>\n",
       "    <tr>\n",
       "      <th>8</th>\n",
       "      <td>Cabin</td>\n",
       "      <td>687</td>\n",
       "      <td>77.10</td>\n",
       "    </tr>\n",
       "    <tr>\n",
       "      <th>9</th>\n",
       "      <td>Embarked</td>\n",
       "      <td>2</td>\n",
       "      <td>0.22</td>\n",
       "    </tr>\n",
       "  </tbody>\n",
       "</table>\n",
       "</div>"
      ],
      "text/plain": [
       "    Columns  Missing Values  Missing %\n",
       "1  Survived               0       0.00\n",
       "2    Pclass               0       0.00\n",
       "3       Sex               0       0.00\n",
       "4       Age             177      19.87\n",
       "5     SibSp               0       0.00\n",
       "6     Parch               0       0.00\n",
       "7      Fare               0       0.00\n",
       "8     Cabin             687      77.10\n",
       "9  Embarked               2       0.22"
      ]
     },
     "execution_count": 70,
     "metadata": {},
     "output_type": "execute_result"
    }
   ],
   "source": [
    "column_data = df.isna().sum().keys().tolist()\n",
    "value_data = df.isna().sum().values.tolist()\n",
    "\n",
    "missing_data = pd.DataFrame(list(zip(column_data, value_data)),columns=[\"Columns\", \"Missing Values\"],index=list(range(1,10)))\n",
    "missing_data[\"Missing %\"] = round(((missing_data[\"Missing Values\"]/df.shape[0])*100),2)\n",
    "\n",
    "print(\"\\nMissing Values for Titanic Data :-\")\n",
    "missing_data"
   ]
  },
  {
   "cell_type": "markdown",
   "id": "643c0b3c",
   "metadata": {},
   "source": [
    "Cabin column is covering heavy percentage as 77.1% while rest two coloumns have less covering percentage"
   ]
  },
  {
   "cell_type": "code",
   "execution_count": 71,
   "id": "41d67d57",
   "metadata": {},
   "outputs": [],
   "source": [
    "#Lets Describe the dataset"
   ]
  },
  {
   "cell_type": "code",
   "execution_count": 72,
   "id": "cba2787d",
   "metadata": {},
   "outputs": [
    {
     "data": {
      "text/html": [
       "<div>\n",
       "<style scoped>\n",
       "    .dataframe tbody tr th:only-of-type {\n",
       "        vertical-align: middle;\n",
       "    }\n",
       "\n",
       "    .dataframe tbody tr th {\n",
       "        vertical-align: top;\n",
       "    }\n",
       "\n",
       "    .dataframe thead th {\n",
       "        text-align: right;\n",
       "    }\n",
       "</style>\n",
       "<table border=\"1\" class=\"dataframe\">\n",
       "  <thead>\n",
       "    <tr style=\"text-align: right;\">\n",
       "      <th></th>\n",
       "      <th>Survived</th>\n",
       "      <th>Pclass</th>\n",
       "      <th>Age</th>\n",
       "      <th>SibSp</th>\n",
       "      <th>Parch</th>\n",
       "      <th>Fare</th>\n",
       "    </tr>\n",
       "  </thead>\n",
       "  <tbody>\n",
       "    <tr>\n",
       "      <th>count</th>\n",
       "      <td>891.000000</td>\n",
       "      <td>891.000000</td>\n",
       "      <td>714.000000</td>\n",
       "      <td>891.000000</td>\n",
       "      <td>891.000000</td>\n",
       "      <td>891.000000</td>\n",
       "    </tr>\n",
       "    <tr>\n",
       "      <th>mean</th>\n",
       "      <td>0.383838</td>\n",
       "      <td>2.308642</td>\n",
       "      <td>29.699118</td>\n",
       "      <td>0.523008</td>\n",
       "      <td>0.381594</td>\n",
       "      <td>32.204208</td>\n",
       "    </tr>\n",
       "    <tr>\n",
       "      <th>std</th>\n",
       "      <td>0.486592</td>\n",
       "      <td>0.836071</td>\n",
       "      <td>14.526497</td>\n",
       "      <td>1.102743</td>\n",
       "      <td>0.806057</td>\n",
       "      <td>49.693429</td>\n",
       "    </tr>\n",
       "    <tr>\n",
       "      <th>min</th>\n",
       "      <td>0.000000</td>\n",
       "      <td>1.000000</td>\n",
       "      <td>0.420000</td>\n",
       "      <td>0.000000</td>\n",
       "      <td>0.000000</td>\n",
       "      <td>0.000000</td>\n",
       "    </tr>\n",
       "    <tr>\n",
       "      <th>25%</th>\n",
       "      <td>0.000000</td>\n",
       "      <td>2.000000</td>\n",
       "      <td>20.125000</td>\n",
       "      <td>0.000000</td>\n",
       "      <td>0.000000</td>\n",
       "      <td>7.910400</td>\n",
       "    </tr>\n",
       "    <tr>\n",
       "      <th>50%</th>\n",
       "      <td>0.000000</td>\n",
       "      <td>3.000000</td>\n",
       "      <td>28.000000</td>\n",
       "      <td>0.000000</td>\n",
       "      <td>0.000000</td>\n",
       "      <td>14.454200</td>\n",
       "    </tr>\n",
       "    <tr>\n",
       "      <th>75%</th>\n",
       "      <td>1.000000</td>\n",
       "      <td>3.000000</td>\n",
       "      <td>38.000000</td>\n",
       "      <td>1.000000</td>\n",
       "      <td>0.000000</td>\n",
       "      <td>31.000000</td>\n",
       "    </tr>\n",
       "    <tr>\n",
       "      <th>max</th>\n",
       "      <td>1.000000</td>\n",
       "      <td>3.000000</td>\n",
       "      <td>80.000000</td>\n",
       "      <td>8.000000</td>\n",
       "      <td>6.000000</td>\n",
       "      <td>512.329200</td>\n",
       "    </tr>\n",
       "  </tbody>\n",
       "</table>\n",
       "</div>"
      ],
      "text/plain": [
       "         Survived      Pclass         Age       SibSp       Parch        Fare\n",
       "count  891.000000  891.000000  714.000000  891.000000  891.000000  891.000000\n",
       "mean     0.383838    2.308642   29.699118    0.523008    0.381594   32.204208\n",
       "std      0.486592    0.836071   14.526497    1.102743    0.806057   49.693429\n",
       "min      0.000000    1.000000    0.420000    0.000000    0.000000    0.000000\n",
       "25%      0.000000    2.000000   20.125000    0.000000    0.000000    7.910400\n",
       "50%      0.000000    3.000000   28.000000    0.000000    0.000000   14.454200\n",
       "75%      1.000000    3.000000   38.000000    1.000000    0.000000   31.000000\n",
       "max      1.000000    3.000000   80.000000    8.000000    6.000000  512.329200"
      ]
     },
     "execution_count": 72,
     "metadata": {},
     "output_type": "execute_result"
    }
   ],
   "source": [
    "df.describe()"
   ]
  },
  {
   "cell_type": "markdown",
   "id": "4bd742b8",
   "metadata": {},
   "source": [
    "Survived is our Target column.It seems Age and Fare has some skewness so we need to focus on Age & Fare columns for filling null value because rest the columns are Classification"
   ]
  },
  {
   "cell_type": "code",
   "execution_count": 73,
   "id": "86594361",
   "metadata": {},
   "outputs": [
    {
     "name": "stdout",
     "output_type": "stream",
     "text": [
      "Survived  549\n",
      "Pclass  0\n",
      "Sex  0\n",
      "Age  0\n",
      "SibSp  608\n",
      "Parch  678\n",
      "Fare  15\n",
      "Cabin  0\n",
      "Embarked  0\n"
     ]
    }
   ],
   "source": [
    "for col in df:\n",
    "           print(col +\"  \"+str(df[df[col]==0].shape[0]))"
   ]
  },
  {
   "cell_type": "code",
   "execution_count": 74,
   "id": "3535d5be",
   "metadata": {},
   "outputs": [
    {
     "data": {
      "text/html": [
       "<div>\n",
       "<style scoped>\n",
       "    .dataframe tbody tr th:only-of-type {\n",
       "        vertical-align: middle;\n",
       "    }\n",
       "\n",
       "    .dataframe tbody tr th {\n",
       "        vertical-align: top;\n",
       "    }\n",
       "\n",
       "    .dataframe thead th {\n",
       "        text-align: right;\n",
       "    }\n",
       "</style>\n",
       "<table border=\"1\" class=\"dataframe\">\n",
       "  <thead>\n",
       "    <tr style=\"text-align: right;\">\n",
       "      <th></th>\n",
       "      <th>Survived</th>\n",
       "      <th>Pclass</th>\n",
       "      <th>Sex</th>\n",
       "      <th>Age</th>\n",
       "      <th>SibSp</th>\n",
       "      <th>Parch</th>\n",
       "      <th>Fare</th>\n",
       "      <th>Cabin</th>\n",
       "      <th>Embarked</th>\n",
       "    </tr>\n",
       "  </thead>\n",
       "  <tbody>\n",
       "    <tr>\n",
       "      <th>179</th>\n",
       "      <td>0</td>\n",
       "      <td>3</td>\n",
       "      <td>male</td>\n",
       "      <td>36.0</td>\n",
       "      <td>0</td>\n",
       "      <td>0</td>\n",
       "      <td>0.0</td>\n",
       "      <td>NaN</td>\n",
       "      <td>S</td>\n",
       "    </tr>\n",
       "    <tr>\n",
       "      <th>263</th>\n",
       "      <td>0</td>\n",
       "      <td>1</td>\n",
       "      <td>male</td>\n",
       "      <td>40.0</td>\n",
       "      <td>0</td>\n",
       "      <td>0</td>\n",
       "      <td>0.0</td>\n",
       "      <td>B94</td>\n",
       "      <td>S</td>\n",
       "    </tr>\n",
       "    <tr>\n",
       "      <th>271</th>\n",
       "      <td>1</td>\n",
       "      <td>3</td>\n",
       "      <td>male</td>\n",
       "      <td>25.0</td>\n",
       "      <td>0</td>\n",
       "      <td>0</td>\n",
       "      <td>0.0</td>\n",
       "      <td>NaN</td>\n",
       "      <td>S</td>\n",
       "    </tr>\n",
       "    <tr>\n",
       "      <th>277</th>\n",
       "      <td>0</td>\n",
       "      <td>2</td>\n",
       "      <td>male</td>\n",
       "      <td>NaN</td>\n",
       "      <td>0</td>\n",
       "      <td>0</td>\n",
       "      <td>0.0</td>\n",
       "      <td>NaN</td>\n",
       "      <td>S</td>\n",
       "    </tr>\n",
       "    <tr>\n",
       "      <th>302</th>\n",
       "      <td>0</td>\n",
       "      <td>3</td>\n",
       "      <td>male</td>\n",
       "      <td>19.0</td>\n",
       "      <td>0</td>\n",
       "      <td>0</td>\n",
       "      <td>0.0</td>\n",
       "      <td>NaN</td>\n",
       "      <td>S</td>\n",
       "    </tr>\n",
       "    <tr>\n",
       "      <th>413</th>\n",
       "      <td>0</td>\n",
       "      <td>2</td>\n",
       "      <td>male</td>\n",
       "      <td>NaN</td>\n",
       "      <td>0</td>\n",
       "      <td>0</td>\n",
       "      <td>0.0</td>\n",
       "      <td>NaN</td>\n",
       "      <td>S</td>\n",
       "    </tr>\n",
       "    <tr>\n",
       "      <th>466</th>\n",
       "      <td>0</td>\n",
       "      <td>2</td>\n",
       "      <td>male</td>\n",
       "      <td>NaN</td>\n",
       "      <td>0</td>\n",
       "      <td>0</td>\n",
       "      <td>0.0</td>\n",
       "      <td>NaN</td>\n",
       "      <td>S</td>\n",
       "    </tr>\n",
       "    <tr>\n",
       "      <th>481</th>\n",
       "      <td>0</td>\n",
       "      <td>2</td>\n",
       "      <td>male</td>\n",
       "      <td>NaN</td>\n",
       "      <td>0</td>\n",
       "      <td>0</td>\n",
       "      <td>0.0</td>\n",
       "      <td>NaN</td>\n",
       "      <td>S</td>\n",
       "    </tr>\n",
       "    <tr>\n",
       "      <th>597</th>\n",
       "      <td>0</td>\n",
       "      <td>3</td>\n",
       "      <td>male</td>\n",
       "      <td>49.0</td>\n",
       "      <td>0</td>\n",
       "      <td>0</td>\n",
       "      <td>0.0</td>\n",
       "      <td>NaN</td>\n",
       "      <td>S</td>\n",
       "    </tr>\n",
       "    <tr>\n",
       "      <th>633</th>\n",
       "      <td>0</td>\n",
       "      <td>1</td>\n",
       "      <td>male</td>\n",
       "      <td>NaN</td>\n",
       "      <td>0</td>\n",
       "      <td>0</td>\n",
       "      <td>0.0</td>\n",
       "      <td>NaN</td>\n",
       "      <td>S</td>\n",
       "    </tr>\n",
       "    <tr>\n",
       "      <th>674</th>\n",
       "      <td>0</td>\n",
       "      <td>2</td>\n",
       "      <td>male</td>\n",
       "      <td>NaN</td>\n",
       "      <td>0</td>\n",
       "      <td>0</td>\n",
       "      <td>0.0</td>\n",
       "      <td>NaN</td>\n",
       "      <td>S</td>\n",
       "    </tr>\n",
       "    <tr>\n",
       "      <th>732</th>\n",
       "      <td>0</td>\n",
       "      <td>2</td>\n",
       "      <td>male</td>\n",
       "      <td>NaN</td>\n",
       "      <td>0</td>\n",
       "      <td>0</td>\n",
       "      <td>0.0</td>\n",
       "      <td>NaN</td>\n",
       "      <td>S</td>\n",
       "    </tr>\n",
       "    <tr>\n",
       "      <th>806</th>\n",
       "      <td>0</td>\n",
       "      <td>1</td>\n",
       "      <td>male</td>\n",
       "      <td>39.0</td>\n",
       "      <td>0</td>\n",
       "      <td>0</td>\n",
       "      <td>0.0</td>\n",
       "      <td>A36</td>\n",
       "      <td>S</td>\n",
       "    </tr>\n",
       "    <tr>\n",
       "      <th>815</th>\n",
       "      <td>0</td>\n",
       "      <td>1</td>\n",
       "      <td>male</td>\n",
       "      <td>NaN</td>\n",
       "      <td>0</td>\n",
       "      <td>0</td>\n",
       "      <td>0.0</td>\n",
       "      <td>B102</td>\n",
       "      <td>S</td>\n",
       "    </tr>\n",
       "    <tr>\n",
       "      <th>822</th>\n",
       "      <td>0</td>\n",
       "      <td>1</td>\n",
       "      <td>male</td>\n",
       "      <td>38.0</td>\n",
       "      <td>0</td>\n",
       "      <td>0</td>\n",
       "      <td>0.0</td>\n",
       "      <td>NaN</td>\n",
       "      <td>S</td>\n",
       "    </tr>\n",
       "  </tbody>\n",
       "</table>\n",
       "</div>"
      ],
      "text/plain": [
       "     Survived  Pclass   Sex   Age  SibSp  Parch  Fare Cabin Embarked\n",
       "179         0       3  male  36.0      0      0   0.0   NaN        S\n",
       "263         0       1  male  40.0      0      0   0.0   B94        S\n",
       "271         1       3  male  25.0      0      0   0.0   NaN        S\n",
       "277         0       2  male   NaN      0      0   0.0   NaN        S\n",
       "302         0       3  male  19.0      0      0   0.0   NaN        S\n",
       "413         0       2  male   NaN      0      0   0.0   NaN        S\n",
       "466         0       2  male   NaN      0      0   0.0   NaN        S\n",
       "481         0       2  male   NaN      0      0   0.0   NaN        S\n",
       "597         0       3  male  49.0      0      0   0.0   NaN        S\n",
       "633         0       1  male   NaN      0      0   0.0   NaN        S\n",
       "674         0       2  male   NaN      0      0   0.0   NaN        S\n",
       "732         0       2  male   NaN      0      0   0.0   NaN        S\n",
       "806         0       1  male  39.0      0      0   0.0   A36        S\n",
       "815         0       1  male   NaN      0      0   0.0  B102        S\n",
       "822         0       1  male  38.0      0      0   0.0   NaN        S"
      ]
     },
     "execution_count": 74,
     "metadata": {},
     "output_type": "execute_result"
    }
   ],
   "source": [
    "# Let's check Fare column where 0 values are present\n",
    "\n",
    "df[df[\"Fare\"]==0]"
   ]
  },
  {
   "cell_type": "code",
   "execution_count": 75,
   "id": "b12dfbc8",
   "metadata": {},
   "outputs": [
    {
     "data": {
      "text/html": [
       "<div>\n",
       "<style scoped>\n",
       "    .dataframe tbody tr th:only-of-type {\n",
       "        vertical-align: middle;\n",
       "    }\n",
       "\n",
       "    .dataframe tbody tr th {\n",
       "        vertical-align: top;\n",
       "    }\n",
       "\n",
       "    .dataframe thead th {\n",
       "        text-align: right;\n",
       "    }\n",
       "</style>\n",
       "<table border=\"1\" class=\"dataframe\">\n",
       "  <thead>\n",
       "    <tr style=\"text-align: right;\">\n",
       "      <th></th>\n",
       "      <th>Sex</th>\n",
       "      <th>Cabin</th>\n",
       "      <th>Embarked</th>\n",
       "    </tr>\n",
       "  </thead>\n",
       "  <tbody>\n",
       "    <tr>\n",
       "      <th>count</th>\n",
       "      <td>891</td>\n",
       "      <td>204</td>\n",
       "      <td>889</td>\n",
       "    </tr>\n",
       "    <tr>\n",
       "      <th>unique</th>\n",
       "      <td>2</td>\n",
       "      <td>147</td>\n",
       "      <td>3</td>\n",
       "    </tr>\n",
       "    <tr>\n",
       "      <th>top</th>\n",
       "      <td>male</td>\n",
       "      <td>B96 B98</td>\n",
       "      <td>S</td>\n",
       "    </tr>\n",
       "    <tr>\n",
       "      <th>freq</th>\n",
       "      <td>577</td>\n",
       "      <td>4</td>\n",
       "      <td>644</td>\n",
       "    </tr>\n",
       "  </tbody>\n",
       "</table>\n",
       "</div>"
      ],
      "text/plain": [
       "         Sex    Cabin Embarked\n",
       "count    891      204      889\n",
       "unique     2      147        3\n",
       "top     male  B96 B98        S\n",
       "freq     577        4      644"
      ]
     },
     "execution_count": 75,
     "metadata": {},
     "output_type": "execute_result"
    }
   ],
   "source": [
    "# Let's describe the categorical data\n",
    "\n",
    "df.describe(include='object')"
   ]
  },
  {
   "cell_type": "code",
   "execution_count": 76,
   "id": "6379270e",
   "metadata": {},
   "outputs": [
    {
     "data": {
      "text/plain": [
       "<seaborn.axisgrid.PairGrid at 0x20837fe3ac0>"
      ]
     },
     "execution_count": 76,
     "metadata": {},
     "output_type": "execute_result"
    },
    {
     "data": {
      "text/plain": [
       "<Figure size 504x504 with 0 Axes>"
      ]
     },
     "metadata": {},
     "output_type": "display_data"
    },
    {
     "data": {
      "image/png": "[encoded data removed]",
      "text/plain": [
       "<Figure size 951.875x900 with 30 Axes>"
      ]
     },
     "metadata": {
      "needs_background": "light"
     },
     "output_type": "display_data"
    }
   ],
   "source": [
    "# Let's check pairplot with Survived\n",
    "import matplotlib.pyplot as plt\n",
    "import seaborn as sns\n",
    "plt.figure(figsize=(7,7))\n",
    "sns.pairplot(df,hue=\"Survived\")"
   ]
  },
  {
   "cell_type": "code",
   "execution_count": 77,
   "id": "bb9f4122",
   "metadata": {},
   "outputs": [
    {
     "data": {
      "text/plain": [
       "<seaborn.axisgrid.FacetGrid at 0x20837baa8e0>"
      ]
     },
     "execution_count": 77,
     "metadata": {},
     "output_type": "execute_result"
    },
    {
     "data": {
      "image/png": "[encoded data removed]",
      "text/plain": [
       "<Figure size 411.875x360 with 1 Axes>"
      ]
     },
     "metadata": {
      "needs_background": "light"
     },
     "output_type": "display_data"
    }
   ],
   "source": [
    "#Analysing\n",
    "\n",
    "sns.catplot(x=\"Age\",y=\"Sex\",data=df,hue=\"Survived\")"
   ]
  },
  {
   "cell_type": "markdown",
   "id": "65218fcc",
   "metadata": {},
   "source": [
    "By above graph we can observe that females are more survive than men"
   ]
  },
  {
   "cell_type": "code",
   "execution_count": 78,
   "id": "0cb03bcb",
   "metadata": {},
   "outputs": [],
   "source": [
    "#Handle the missing Data\n",
    "\n",
    "# Dropna Embarked\n",
    "df.dropna(subset=[\"Embarked\"],inplace=True)\n",
    "\n",
    "# Filling Age with its mean value\n",
    "df.fillna(df[\"Age\"].mean(), inplace=True)\n",
    "\n",
    "# Filling Cabin with 0\n",
    "df.fillna(df[\"Cabin\"].mode(),inplace=True)"
   ]
  },
  {
   "cell_type": "markdown",
   "id": "4b5fded4",
   "metadata": {},
   "source": [
    "Cheking the null values again"
   ]
  },
  {
   "cell_type": "code",
   "execution_count": 79,
   "id": "77d7fa92",
   "metadata": {},
   "outputs": [
    {
     "data": {
      "text/plain": [
       "Survived    0\n",
       "Pclass      0\n",
       "Sex         0\n",
       "Age         0\n",
       "SibSp       0\n",
       "Parch       0\n",
       "Fare        0\n",
       "Cabin       0\n",
       "Embarked    0\n",
       "dtype: int64"
      ]
     },
     "execution_count": 79,
     "metadata": {},
     "output_type": "execute_result"
    }
   ],
   "source": [
    "df.isnull().sum()"
   ]
  },
  {
   "cell_type": "markdown",
   "id": "b1cce5b2",
   "metadata": {},
   "source": [
    "Now there is no null values"
   ]
  },
  {
   "cell_type": "markdown",
   "id": "89c5a68f",
   "metadata": {},
   "source": [
    "# check the Skewness"
   ]
  },
  {
   "cell_type": "code",
   "execution_count": 80,
   "id": "9daa3e88",
   "metadata": {},
   "outputs": [
    {
     "data": {
      "text/plain": [
       "Survived    0.484568\n",
       "Pclass     -0.636998\n",
       "Age         0.434355\n",
       "SibSp       3.691058\n",
       "Parch       2.745160\n",
       "Fare        4.801440\n",
       "dtype: float64"
      ]
     },
     "execution_count": 80,
     "metadata": {},
     "output_type": "execute_result"
    }
   ],
   "source": [
    "df.skew()"
   ]
  },
  {
   "cell_type": "markdown",
   "id": "0d1f3b94",
   "metadata": {},
   "source": [
    "we need to correct the skewness for 'Fare' only because the SibSp and Parch are the classification"
   ]
  },
  {
   "cell_type": "code",
   "execution_count": 81,
   "id": "08128deb",
   "metadata": {},
   "outputs": [],
   "source": [
    "# Let's separate the numerica columns and categorical columns\n",
    "\n",
    "numerical = df.drop(columns=[\"Sex\", \"Cabin\", \"Embarked\"])\n",
    "categorical = df[[\"Sex\", \"Cabin\", \"Embarked\"]]"
   ]
  },
  {
   "cell_type": "markdown",
   "id": "d618e081",
   "metadata": {},
   "source": [
    "Visualizing the Skewness with the distplot"
   ]
  },
  {
   "cell_type": "code",
   "execution_count": 82,
   "id": "67139e33",
   "metadata": {},
   "outputs": [
    {
     "data": {
      "image/png": "[encoded data removed]",
      "text/plain": [
       "<Figure size 720x1080 with 6 Axes>"
      ]
     },
     "metadata": {},
     "output_type": "display_data"
    }
   ],
   "source": [
    "plt.figure(figsize=(10,15),facecolor='white')\n",
    "graphplot=1\n",
    "for column in numerical:\n",
    "    if graphplot<=6:\n",
    "        ax=plt.subplot(2,3,graphplot)\n",
    "        sns.distplot(numerical[column])\n",
    "    graphplot+=1\n",
    "plt.show()    "
   ]
  },
  {
   "cell_type": "markdown",
   "id": "ab0010c0",
   "metadata": {},
   "source": [
    "We are observing that fare column has only skew rest column is the classification"
   ]
  },
  {
   "cell_type": "code",
   "execution_count": 83,
   "id": "5def3ede",
   "metadata": {},
   "outputs": [
    {
     "data": {
      "image/png": "[encoded data removed]",
      "text/plain": [
       "<Figure size 1080x720 with 6 Axes>"
      ]
     },
     "metadata": {},
     "output_type": "display_data"
    }
   ],
   "source": [
    "# Let's check the outliers\n",
    "\n",
    "plt.figure(figsize = (15,10), facecolor='white')\n",
    "graphplot = 1\n",
    "for column in numerical:\n",
    "    if graphplot<=6:\n",
    "        ax = plt.subplot(2,3,graphplot)\n",
    "        sns.boxplot(numerical[column])\n",
    "        plt.xlabel(column,fontsize=15)\n",
    "    graphplot+=1\n",
    "plt.show()"
   ]
  },
  {
   "cell_type": "code",
   "execution_count": 84,
   "id": "63f28ee2",
   "metadata": {},
   "outputs": [],
   "source": [
    "#Removing the outliers by using the ztransform"
   ]
  },
  {
   "cell_type": "code",
   "execution_count": 85,
   "id": "177ca82c",
   "metadata": {},
   "outputs": [
    {
     "data": {
      "text/plain": [
       "(818, 9)"
      ]
     },
     "execution_count": 85,
     "metadata": {},
     "output_type": "execute_result"
    }
   ],
   "source": [
    "import numpy as np\n",
    "from scipy.stats import zscore\n",
    "\n",
    "z = np.abs(zscore(numerical))\n",
    "df = df[(z<3).all(axis=1)]\n",
    "df.shape"
   ]
  },
  {
   "cell_type": "code",
   "execution_count": 86,
   "id": "1bd17fdc",
   "metadata": {},
   "outputs": [],
   "source": [
    "#check the skewness again"
   ]
  },
  {
   "cell_type": "code",
   "execution_count": 87,
   "id": "a91934a7",
   "metadata": {},
   "outputs": [
    {
     "data": {
      "text/plain": [
       "Survived    0.457268\n",
       "Pclass     -0.639191\n",
       "Age         0.314053\n",
       "SibSp       1.975774\n",
       "Parch       2.118544\n",
       "Fare        2.342849\n",
       "dtype: float64"
      ]
     },
     "execution_count": 87,
     "metadata": {},
     "output_type": "execute_result"
    }
   ],
   "source": [
    "df.skew()"
   ]
  },
  {
   "cell_type": "code",
   "execution_count": 40,
   "id": "bdb856fb",
   "metadata": {},
   "outputs": [],
   "source": [
    "#Skewness is still availbale in fare so need to perform one more performence to remove the skewness"
   ]
  },
  {
   "cell_type": "code",
   "execution_count": 88,
   "id": "1084628f",
   "metadata": {},
   "outputs": [],
   "source": [
    "# Let's remove the pending skewness\n",
    "\n",
    "for index in df.skew().index:\n",
    "    if df.skew().loc[index]>0.5:\n",
    "        df[index] = np.sqrt(df[index])\n",
    "    if df.skew().loc[index]<-0.5:\n",
    "        df[index] = np.cbrt(df[index])"
   ]
  },
  {
   "cell_type": "code",
   "execution_count": 90,
   "id": "a446ed21",
   "metadata": {},
   "outputs": [
    {
     "data": {
      "text/plain": [
       "Survived    0.457268\n",
       "Pclass     -0.799021\n",
       "Age         0.314053\n",
       "SibSp       1.133008\n",
       "Parch       1.719456\n",
       "Fare        1.363890\n",
       "dtype: float64"
      ]
     },
     "execution_count": 90,
     "metadata": {},
     "output_type": "execute_result"
    }
   ],
   "source": [
    "# Let's check skewness again..\n",
    "\n",
    "df.skew()"
   ]
  },
  {
   "cell_type": "code",
   "execution_count": 91,
   "id": "18d14530",
   "metadata": {},
   "outputs": [],
   "source": [
    "#removing the skewness by using the power transformer"
   ]
  },
  {
   "cell_type": "code",
   "execution_count": 92,
   "id": "9d20bf64",
   "metadata": {},
   "outputs": [],
   "source": [
    "from sklearn.preprocessing import PowerTransformer\n",
    "Features=[\"Pclass\",\"Age\",\"SibSp\",\"Parch\",\"Fare\"]\n",
    "Scaler=PowerTransformer(method=\"yeo-johnson\")\n",
    "df[Features]=Scaler.fit_transform(df[Features].values)"
   ]
  },
  {
   "cell_type": "code",
   "execution_count": 93,
   "id": "7a90329d",
   "metadata": {},
   "outputs": [
    {
     "data": {
      "text/plain": [
       "Survived    0.457268\n",
       "Pclass     -0.456334\n",
       "Age         0.071856\n",
       "SibSp       0.943010\n",
       "Parch       1.577507\n",
       "Fare        0.043989\n",
       "dtype: float64"
      ]
     },
     "execution_count": 93,
     "metadata": {},
     "output_type": "execute_result"
    }
   ],
   "source": [
    "df.skew()"
   ]
  },
  {
   "cell_type": "markdown",
   "id": "0c7a02ae",
   "metadata": {},
   "source": [
    "It seems that skewness has gone from Fare column. Now Let's deal with categorical column"
   ]
  },
  {
   "cell_type": "code",
   "execution_count": 94,
   "id": "dedd55bd",
   "metadata": {},
   "outputs": [],
   "source": [
    "#Now lets deal with categorical columns"
   ]
  },
  {
   "cell_type": "code",
   "execution_count": 95,
   "id": "5c643d62",
   "metadata": {},
   "outputs": [],
   "source": [
    "# Let's separate the input and output\n",
    "\n",
    "x = df.drop(\"Survived\", axis=1)\n",
    "y = df[\"Survived\"]"
   ]
  },
  {
   "cell_type": "code",
   "execution_count": 96,
   "id": "b918b1bf",
   "metadata": {},
   "outputs": [
    {
     "data": {
      "text/plain": [
       "Pclass   -0.319794\n",
       "Age      -0.104474\n",
       "SibSp     0.162401\n",
       "Parch     0.212967\n",
       "Fare      0.357993\n",
       "dtype: float64"
      ]
     },
     "execution_count": 96,
     "metadata": {},
     "output_type": "execute_result"
    }
   ],
   "source": [
    "#correlation with features and target\n",
    "\n",
    "x.corrwith(y)"
   ]
  },
  {
   "cell_type": "code",
   "execution_count": 97,
   "id": "b85b43e6",
   "metadata": {},
   "outputs": [
    {
     "data": {
      "text/html": [
       "<div>\n",
       "<style scoped>\n",
       "    .dataframe tbody tr th:only-of-type {\n",
       "        vertical-align: middle;\n",
       "    }\n",
       "\n",
       "    .dataframe tbody tr th {\n",
       "        vertical-align: top;\n",
       "    }\n",
       "\n",
       "    .dataframe thead th {\n",
       "        text-align: right;\n",
       "    }\n",
       "</style>\n",
       "<table border=\"1\" class=\"dataframe\">\n",
       "  <thead>\n",
       "    <tr style=\"text-align: right;\">\n",
       "      <th></th>\n",
       "      <th>Survived</th>\n",
       "      <th>Pclass</th>\n",
       "      <th>Age</th>\n",
       "      <th>SibSp</th>\n",
       "      <th>Parch</th>\n",
       "      <th>Fare</th>\n",
       "    </tr>\n",
       "  </thead>\n",
       "  <tbody>\n",
       "    <tr>\n",
       "      <th>Survived</th>\n",
       "      <td>1.000000</td>\n",
       "      <td>-0.319794</td>\n",
       "      <td>-0.104474</td>\n",
       "      <td>0.162401</td>\n",
       "      <td>0.212967</td>\n",
       "      <td>0.357993</td>\n",
       "    </tr>\n",
       "    <tr>\n",
       "      <th>Pclass</th>\n",
       "      <td>-0.319794</td>\n",
       "      <td>1.000000</td>\n",
       "      <td>-0.305205</td>\n",
       "      <td>-0.140809</td>\n",
       "      <td>-0.088213</td>\n",
       "      <td>-0.649681</td>\n",
       "    </tr>\n",
       "    <tr>\n",
       "      <th>Age</th>\n",
       "      <td>-0.104474</td>\n",
       "      <td>-0.305205</td>\n",
       "      <td>1.000000</td>\n",
       "      <td>-0.102791</td>\n",
       "      <td>-0.262648</td>\n",
       "      <td>0.122118</td>\n",
       "    </tr>\n",
       "    <tr>\n",
       "      <th>SibSp</th>\n",
       "      <td>0.162401</td>\n",
       "      <td>-0.140809</td>\n",
       "      <td>-0.102791</td>\n",
       "      <td>1.000000</td>\n",
       "      <td>0.346366</td>\n",
       "      <td>0.396769</td>\n",
       "    </tr>\n",
       "    <tr>\n",
       "      <th>Parch</th>\n",
       "      <td>0.212967</td>\n",
       "      <td>-0.088213</td>\n",
       "      <td>-0.262648</td>\n",
       "      <td>0.346366</td>\n",
       "      <td>1.000000</td>\n",
       "      <td>0.301684</td>\n",
       "    </tr>\n",
       "    <tr>\n",
       "      <th>Fare</th>\n",
       "      <td>0.357993</td>\n",
       "      <td>-0.649681</td>\n",
       "      <td>0.122118</td>\n",
       "      <td>0.396769</td>\n",
       "      <td>0.301684</td>\n",
       "      <td>1.000000</td>\n",
       "    </tr>\n",
       "  </tbody>\n",
       "</table>\n",
       "</div>"
      ],
      "text/plain": [
       "          Survived    Pclass       Age     SibSp     Parch      Fare\n",
       "Survived  1.000000 -0.319794 -0.104474  0.162401  0.212967  0.357993\n",
       "Pclass   -0.319794  1.000000 -0.305205 -0.140809 -0.088213 -0.649681\n",
       "Age      -0.104474 -0.305205  1.000000 -0.102791 -0.262648  0.122118\n",
       "SibSp     0.162401 -0.140809 -0.102791  1.000000  0.346366  0.396769\n",
       "Parch     0.212967 -0.088213 -0.262648  0.346366  1.000000  0.301684\n",
       "Fare      0.357993 -0.649681  0.122118  0.396769  0.301684  1.000000"
      ]
     },
     "execution_count": 97,
     "metadata": {},
     "output_type": "execute_result"
    }
   ],
   "source": [
    "# Multicollinearity between features\n",
    "\n",
    "corr = df.corr()\n",
    "corr"
   ]
  },
  {
   "cell_type": "markdown",
   "id": "d78bdffa",
   "metadata": {},
   "source": [
    "Drawing heatmap for better understanding of Multicollinearity"
   ]
  },
  {
   "cell_type": "code",
   "execution_count": 98,
   "id": "30c78bdf",
   "metadata": {},
   "outputs": [
    {
     "data": {
      "text/plain": [
       "<function matplotlib.pyplot.show(close=None, block=None)>"
      ]
     },
     "execution_count": 98,
     "metadata": {},
     "output_type": "execute_result"
    },
    {
     "data": {
      "image/png": "[encoded data removed]",
      "text/plain": [
       "<Figure size 720x864 with 2 Axes>"
      ]
     },
     "metadata": {
      "needs_background": "light"
     },
     "output_type": "display_data"
    }
   ],
   "source": [
    "plt.figure(figsize=(10,12))\n",
    "sns.heatmap(corr,cbar=True,square=True,annot=True,cbar_kws={\"shrink\":0.82},annot_kws={\"size\":10},cmap=\"Blues\",fmt=\"0.2f\",linewidths=0.2)\n",
    "plt.xlabel(\"Multicollinearity between features\",fontsize=20)\n",
    "plt.show"
   ]
  },
  {
   "cell_type": "markdown",
   "id": "0d761954",
   "metadata": {},
   "source": [
    "# There is no multicollenerity between features and target so let's move ahead"
   ]
  },
  {
   "cell_type": "code",
   "execution_count": 99,
   "id": "d1a341f9",
   "metadata": {},
   "outputs": [
    {
     "data": {
      "text/plain": [
       "(818, 146)"
      ]
     },
     "execution_count": 99,
     "metadata": {},
     "output_type": "execute_result"
    }
   ],
   "source": [
    "# Converting categorical column to numerical column using OneHotEncoder\n",
    "\n",
    "cat_to_conv = [\"Sex\", \"Cabin\", \"Embarked\"]\n",
    "\n",
    "df = pd.get_dummies(df, columns=cat_to_conv)\n",
    "\n",
    "df.shape"
   ]
  },
  {
   "cell_type": "code",
   "execution_count": 101,
   "id": "4ace5631",
   "metadata": {},
   "outputs": [],
   "source": [
    "# Let's separate the input and output again..\n",
    "\n",
    "x = df.drop(columns = [\"Survived\"],axis=1)\n",
    "y = df[\"Survived\"]"
   ]
  },
  {
   "cell_type": "code",
   "execution_count": 103,
   "id": "3703f55f",
   "metadata": {},
   "outputs": [
    {
     "data": {
      "text/plain": [
       "array([[ 0.8667975 , -0.61590471,  1.56022516, ..., -0.47966153,\n",
       "        -0.3082967 ,  0.61408825],\n",
       "       [-1.49047043,  0.69268819,  1.56022516, ...,  2.0848034 ,\n",
       "        -0.3082967 , -1.62843045],\n",
       "       [ 0.8667975 , -0.28032048, -0.63478839, ..., -0.47966153,\n",
       "        -0.3082967 ,  0.61408825],\n",
       "       ...,\n",
       "       [ 0.8667975 ,  0.01983199,  1.56022516, ..., -0.47966153,\n",
       "        -0.3082967 ,  0.61408825],\n",
       "       [-1.49047043, -0.28032048, -0.63478839, ...,  2.0848034 ,\n",
       "        -0.3082967 , -1.62843045],\n",
       "       [ 0.8667975 ,  0.21174835, -0.63478839, ..., -0.47966153,\n",
       "         3.24362864, -1.62843045]])"
      ]
     },
     "execution_count": 103,
     "metadata": {},
     "output_type": "execute_result"
    }
   ],
   "source": [
    "# Let's do Scaling first before proceeding to the VIF Score\n",
    "\n",
    "from sklearn.preprocessing import StandardScaler\n",
    "\n",
    "scalar = StandardScaler()\n",
    "x_scaled = scalar.fit_transform(x)\n",
    "\n",
    "x_scaled"
   ]
  },
  {
   "cell_type": "code",
   "execution_count": 105,
   "id": "51ac8c70",
   "metadata": {},
   "outputs": [
    {
     "data": {
      "text/html": [
       "<div>\n",
       "<style scoped>\n",
       "    .dataframe tbody tr th:only-of-type {\n",
       "        vertical-align: middle;\n",
       "    }\n",
       "\n",
       "    .dataframe tbody tr th {\n",
       "        vertical-align: top;\n",
       "    }\n",
       "\n",
       "    .dataframe thead th {\n",
       "        text-align: right;\n",
       "    }\n",
       "</style>\n",
       "<table border=\"1\" class=\"dataframe\">\n",
       "  <thead>\n",
       "    <tr style=\"text-align: right;\">\n",
       "      <th></th>\n",
       "      <th>VIF Score</th>\n",
       "      <th>Features</th>\n",
       "    </tr>\n",
       "  </thead>\n",
       "  <tbody>\n",
       "    <tr>\n",
       "      <th>0</th>\n",
       "      <td>2.992252</td>\n",
       "      <td>Pclass</td>\n",
       "    </tr>\n",
       "    <tr>\n",
       "      <th>1</th>\n",
       "      <td>1.714227</td>\n",
       "      <td>Age</td>\n",
       "    </tr>\n",
       "    <tr>\n",
       "      <th>2</th>\n",
       "      <td>1.835861</td>\n",
       "      <td>SibSp</td>\n",
       "    </tr>\n",
       "    <tr>\n",
       "      <th>3</th>\n",
       "      <td>1.981444</td>\n",
       "      <td>Parch</td>\n",
       "    </tr>\n",
       "    <tr>\n",
       "      <th>4</th>\n",
       "      <td>3.455896</td>\n",
       "      <td>Fare</td>\n",
       "    </tr>\n",
       "  </tbody>\n",
       "</table>\n",
       "</div>"
      ],
      "text/plain": [
       "   VIF Score Features\n",
       "0   2.992252   Pclass\n",
       "1   1.714227      Age\n",
       "2   1.835861    SibSp\n",
       "3   1.981444    Parch\n",
       "4   3.455896     Fare"
      ]
     },
     "execution_count": 105,
     "metadata": {},
     "output_type": "execute_result"
    }
   ],
   "source": [
    "# Let's check the VIF Score first..\n",
    "\n",
    "from statsmodels.stats.outliers_influence import variance_inflation_factor\n",
    "\n",
    "vif = pd.DataFrame()\n",
    "vif[\"VIF Score\"] = [variance_inflation_factor(x_scaled,i) for i in range(x_scaled.shape[1])]\n",
    "vif[\"Features\"] = x.columns\n",
    "                    \n",
    "vif.head(5)"
   ]
  },
  {
   "cell_type": "markdown",
   "id": "fc1528a1",
   "metadata": {},
   "source": [
    "VIF score is less than 5 so multicolliniearity is not present"
   ]
  },
  {
   "cell_type": "code",
   "execution_count": 106,
   "id": "7900af2b",
   "metadata": {},
   "outputs": [
    {
     "data": {
      "text/plain": [
       "0    500\n",
       "1    318\n",
       "Name: Survived, dtype: int64"
      ]
     },
     "execution_count": 106,
     "metadata": {},
     "output_type": "execute_result"
    }
   ],
   "source": [
    "# Target Column (Survived) Analysis\n",
    "\n",
    "df[\"Survived\"].value_counts()"
   ]
  },
  {
   "cell_type": "code",
   "execution_count": 107,
   "id": "56948cb4",
   "metadata": {},
   "outputs": [
    {
     "data": {
      "text/plain": [
       "<AxesSubplot:xlabel='Survived', ylabel='count'>"
      ]
     },
     "execution_count": 107,
     "metadata": {},
     "output_type": "execute_result"
    },
    {
     "data": {
      "image/png": "[encoded data removed]",
      "text/plain": [
       "<Figure size 432x288 with 1 Axes>"
      ]
     },
     "metadata": {
      "needs_background": "light"
     },
     "output_type": "display_data"
    }
   ],
   "source": [
    "# Let's plot countplot for better analysis\n",
    "\n",
    "sns.countplot(df[\"Survived\"])"
   ]
  },
  {
   "cell_type": "code",
   "execution_count": 108,
   "id": "fc303abd",
   "metadata": {},
   "outputs": [
    {
     "data": {
      "text/plain": [
       "<AxesSubplot:ylabel='Survived'>"
      ]
     },
     "execution_count": 108,
     "metadata": {},
     "output_type": "execute_result"
    },
    {
     "data": {
      "image/png": "[encoded data removed]",
      "text/plain": [
       "<Figure size 432x432 with 1 Axes>"
      ]
     },
     "metadata": {},
     "output_type": "display_data"
    }
   ],
   "source": [
    "# let's plot a pie chart to check the contribution of each\n",
    "\n",
    "df[\"Survived\"].value_counts().plot.pie(figsize=(6,6), autopct=\"%1.2f\",startangle=90,\n",
    "                                                 labels=[\"Not Survived\",\"Survived\"],fontsize=20)"
   ]
  },
  {
   "cell_type": "code",
   "execution_count": 109,
   "id": "62576f53",
   "metadata": {},
   "outputs": [
    {
     "data": {
      "text/plain": [
       "0    500\n",
       "1    500\n",
       "Name: Survived, dtype: int64"
      ]
     },
     "execution_count": 109,
     "metadata": {},
     "output_type": "execute_result"
    }
   ],
   "source": [
    "# Oversampling for class Imbalance\n",
    "\n",
    "\n",
    "from imblearn.over_sampling import SMOTE\n",
    "\n",
    "SM = SMOTE()\n",
    "\n",
    "x,y = SM.fit_resample(x,y)\n",
    "\n",
    "y.value_counts()"
   ]
  },
  {
   "cell_type": "code",
   "execution_count": 110,
   "id": "56246b1e",
   "metadata": {},
   "outputs": [
    {
     "data": {
      "text/plain": [
       "<AxesSubplot:xlabel='Survived', ylabel='count'>"
      ]
     },
     "execution_count": 110,
     "metadata": {},
     "output_type": "execute_result"
    },
    {
     "data": {
      "image/png": "[encoded data removed]",
      "text/plain": [
       "<Figure size 432x288 with 1 Axes>"
      ]
     },
     "metadata": {
      "needs_background": "light"
     },
     "output_type": "display_data"
    }
   ],
   "source": [
    "# Let's check countplot again...\n",
    "\n",
    "sns.countplot(y)"
   ]
  },
  {
   "cell_type": "markdown",
   "id": "adab0142",
   "metadata": {},
   "source": [
    "class is balanced"
   ]
  },
  {
   "cell_type": "code",
   "execution_count": 112,
   "id": "0f4528a3",
   "metadata": {},
   "outputs": [
    {
     "data": {
      "text/plain": [
       "array([[ 0.94127639, -0.57229328,  1.50257738, ..., -0.47959598,\n",
       "        -0.30282513,  0.64686916],\n",
       "       [-1.37946919,  0.714105  ,  1.50257738, ...,  2.08508839,\n",
       "        -0.30282513, -1.54590766],\n",
       "       [ 0.94127639, -0.24240079, -0.6592336 , ..., -0.47959598,\n",
       "        -0.30282513,  0.64686916],\n",
       "       ...,\n",
       "       [-1.37946919,  0.70824911,  1.50257738, ..., -0.47959598,\n",
       "        -0.30282513, -1.54590766],\n",
       "       [-1.37946919, -0.38500982,  1.50257738, ...,  2.08508839,\n",
       "        -0.30282513, -1.54590766],\n",
       "       [-1.37946919, -0.41184517, -0.6592336 , ..., -0.47959598,\n",
       "        -0.30282513,  0.64686916]])"
      ]
     },
     "execution_count": 112,
     "metadata": {},
     "output_type": "execute_result"
    }
   ],
   "source": [
    "# Let's do scaling again for the latest unsampled data\n",
    "\n",
    "from sklearn.preprocessing import StandardScaler\n",
    "\n",
    "sca = StandardScaler()\n",
    "x_scal = sca.fit_transform(x)\n",
    "\n",
    "x_scal"
   ]
  },
  {
   "cell_type": "code",
   "execution_count": 114,
   "id": "f2e97bff",
   "metadata": {},
   "outputs": [
    {
     "data": {
      "text/plain": [
       "(818, 146)"
      ]
     },
     "execution_count": 114,
     "metadata": {},
     "output_type": "execute_result"
    }
   ],
   "source": [
    "# Shape of final data\n",
    "\n",
    "df.shape"
   ]
  },
  {
   "cell_type": "code",
   "execution_count": 116,
   "id": "22706687",
   "metadata": {},
   "outputs": [
    {
     "name": "stdout",
     "output_type": "stream",
     "text": [
      "Number of component explaining 95% variance :  131\n"
     ]
    },
    {
     "data": {
      "text/plain": [
       "[]"
      ]
     },
     "execution_count": 116,
     "metadata": {},
     "output_type": "execute_result"
    },
    {
     "data": {
      "image/png": "[encoded data removed]",
      "text/plain": [
       "<Figure size 432x288 with 1 Axes>"
      ]
     },
     "metadata": {
      "needs_background": "light"
     },
     "output_type": "display_data"
    }
   ],
   "source": [
    " #There are so many columns. So, Let's use the PCA\n",
    "\n",
    "from sklearn.decomposition import PCA\n",
    "from sklearn.metrics import explained_variance_score\n",
    "\n",
    "x_pca = PCA()\n",
    "x_pca.fit(x_scal)\n",
    "\n",
    "var_cumu = np.cumsum(x_pca.explained_variance_ratio_)*100\n",
    "\n",
    "k = np.argmax(var_cumu>95)\n",
    "print(\"Number of component explaining 95% variance : \",k)\n",
    "\n",
    "plt.xlabel(\"Principle Component\", fontsize=15)\n",
    "plt.ylabel(\"Cumulative Explained Variance\", fontsize=15)\n",
    "plt.axvline(x=k, color='k', linestyle='--')\n",
    "plt.axhline(y=95, color='r', linestyle='--')\n",
    "plt.plot(var_cumu)\n",
    "plt.plot()"
   ]
  },
  {
   "cell_type": "code",
   "execution_count": 117,
   "id": "e774b00b",
   "metadata": {},
   "outputs": [
    {
     "data": {
      "text/plain": [
       "array([[-1.59940800e+00, -1.10038790e-01,  5.01480608e-01, ...,\n",
       "         7.31858305e-17,  1.87525803e-15,  9.82626690e-16],\n",
       "       [ 4.91774157e+00, -6.13547980e-02, -2.63578827e+00, ...,\n",
       "        -1.82554248e+00,  1.75656849e+00,  6.46704442e-01],\n",
       "       [-8.49497090e-01, -1.41343918e+00,  3.70911320e-01, ...,\n",
       "         4.20627260e-16,  5.73912955e-16, -2.02963072e-15],\n",
       "       ...,\n",
       "       [ 3.50798171e+00, -7.58064199e-01,  4.28393097e-01, ...,\n",
       "         9.12030329e-16, -2.94246376e-16, -1.25956487e-16],\n",
       "       [ 3.00784199e+00,  4.76103096e-01, -1.32512110e+00, ...,\n",
       "         2.41146582e-16, -1.69868362e-16,  2.42716719e-15],\n",
       "       [ 2.68002938e+00, -6.19118058e-01,  1.59973681e+00, ...,\n",
       "         1.81339710e-16, -1.82348129e-17, -1.73732076e-15]])"
      ]
     },
     "execution_count": 117,
     "metadata": {},
     "output_type": "execute_result"
    }
   ],
   "source": [
    "# Finalysing the features with PCA for model buildings\n",
    "\n",
    "Pca = PCA(n_components = 131)\n",
    "df_x = Pca.fit_transform(x_scal)\n",
    "\n",
    "df_x"
   ]
  },
  {
   "cell_type": "code",
   "execution_count": 118,
   "id": "7e88ffbb",
   "metadata": {},
   "outputs": [],
   "source": [
    "# Let's import the necessary libraries for models\n",
    "\n",
    "from sklearn.metrics import accuracy_score, plot_roc_curve, classification_report\n",
    "from sklearn.model_selection import train_test_split, cross_val_score"
   ]
  },
  {
   "cell_type": "code",
   "execution_count": 119,
   "id": "b6a38d6c",
   "metadata": {},
   "outputs": [],
   "source": [
    "# Let's find the best random state\n",
    "\n",
    "def model(mod):\n",
    "    max_auc = 0\n",
    "    max_state = 0\n",
    "    for i in range(1,201):\n",
    "        x_train,x_test,y_train,y_test = train_test_split(df_x,y,test_size = 0.25, random_state =i)\n",
    "        mod.fit(x_train,y_train)\n",
    "        y_pred = mod.predict(x_test)\n",
    "        auc_scor = accuracy_score(y_test, y_pred)\n",
    "        if auc_scor>max_auc:\n",
    "            max_auc=auc_scor\n",
    "            max_state=i\n",
    "    print(\"Best Accuracy Score corresponding to \",max_state,\"is \",auc_scor)\n",
    "    print(\"Cross Validation Score : \",cross_val_score(mod,df_x,y,cv=5).mean())\n",
    "    print(\"Classifiation Report-->\\n\\n\",classification_report(y_test,y_pred))"
   ]
  },
  {
   "cell_type": "code",
   "execution_count": 120,
   "id": "5cd4f4e4",
   "metadata": {},
   "outputs": [
    {
     "name": "stdout",
     "output_type": "stream",
     "text": [
      "Best Accuracy Score corresponding to  41 is  0.772\n",
      "Cross Validation Score :  0.776\n",
      "Classifiation Report-->\n",
      "\n",
      "               precision    recall  f1-score   support\n",
      "\n",
      "           0       0.77      0.74      0.75       117\n",
      "           1       0.78      0.80      0.79       133\n",
      "\n",
      "    accuracy                           0.77       250\n",
      "   macro avg       0.77      0.77      0.77       250\n",
      "weighted avg       0.77      0.77      0.77       250\n",
      "\n"
     ]
    }
   ],
   "source": [
    "# Logistic Regression\n",
    "\n",
    "from sklearn.linear_model import LogisticRegression\n",
    "\n",
    "LR = LogisticRegression()\n",
    "model(LR)"
   ]
  },
  {
   "cell_type": "code",
   "execution_count": 121,
   "id": "74ce5cc8",
   "metadata": {},
   "outputs": [],
   "source": [
    "# Models Format\n",
    "\n",
    "def models(mods):\n",
    "    x_train,x_test,y_train,y_test = train_test_split(df_x,y,test_size = 0.25, random_state =41)\n",
    "    mods.fit(x_train,y_train)\n",
    "    y_preds = mods.predict(x_test)\n",
    "    auc_score = accuracy_score(y_test, y_preds)\n",
    "    print(\"Best Accuracy Score corresponding to \",auc_score)\n",
    "    print(\"Cross Validation Score : \",cross_val_score(mods,df_x,y,cv=5).mean())\n",
    "    print(\"Classifiation Report-->\\n\\n\",classification_report(y_test,y_preds))    "
   ]
  },
  {
   "cell_type": "code",
   "execution_count": 122,
   "id": "756f405e",
   "metadata": {},
   "outputs": [
    {
     "name": "stdout",
     "output_type": "stream",
     "text": [
      "Best Accuracy Score corresponding to  0.824\n",
      "Cross Validation Score :  0.7809999999999999\n",
      "Classifiation Report-->\n",
      "\n",
      "               precision    recall  f1-score   support\n",
      "\n",
      "           0       0.78      0.81      0.80       107\n",
      "           1       0.86      0.83      0.84       143\n",
      "\n",
      "    accuracy                           0.82       250\n",
      "   macro avg       0.82      0.82      0.82       250\n",
      "weighted avg       0.83      0.82      0.82       250\n",
      "\n"
     ]
    }
   ],
   "source": [
    "# Decision Tree Classifier\n",
    "\n",
    "from sklearn.tree import DecisionTreeClassifier\n",
    "\n",
    "DTR = DecisionTreeClassifier()\n",
    "\n",
    "models(DTR)"
   ]
  },
  {
   "cell_type": "code",
   "execution_count": 123,
   "id": "861d0d64",
   "metadata": {},
   "outputs": [
    {
     "name": "stdout",
     "output_type": "stream",
     "text": [
      "Best Accuracy Score corresponding to  0.88\n",
      "Cross Validation Score :  0.806\n",
      "Classifiation Report-->\n",
      "\n",
      "               precision    recall  f1-score   support\n",
      "\n",
      "           0       0.83      0.90      0.86       107\n",
      "           1       0.92      0.87      0.89       143\n",
      "\n",
      "    accuracy                           0.88       250\n",
      "   macro avg       0.88      0.88      0.88       250\n",
      "weighted avg       0.88      0.88      0.88       250\n",
      "\n"
     ]
    }
   ],
   "source": [
    "# K-Neighbors Classifier\n",
    "\n",
    "from sklearn.neighbors import KNeighborsClassifier\n",
    "\n",
    "KNC = KNeighborsClassifier()\n",
    "\n",
    "models(KNC)"
   ]
  },
  {
   "cell_type": "code",
   "execution_count": 124,
   "id": "859bedec",
   "metadata": {},
   "outputs": [
    {
     "name": "stdout",
     "output_type": "stream",
     "text": [
      "Best Accuracy Score corresponding to  0.892\n",
      "Cross Validation Score :  0.8280000000000001\n",
      "Classifiation Report-->\n",
      "\n",
      "               precision    recall  f1-score   support\n",
      "\n",
      "           0       0.83      0.93      0.88       107\n",
      "           1       0.95      0.86      0.90       143\n",
      "\n",
      "    accuracy                           0.89       250\n",
      "   macro avg       0.89      0.90      0.89       250\n",
      "weighted avg       0.90      0.89      0.89       250\n",
      "\n"
     ]
    }
   ],
   "source": [
    "# Gradient Boosting Classifier\n",
    "\n",
    "from sklearn.ensemble import GradientBoostingClassifier\n",
    "\n",
    "GBC = GradientBoostingClassifier()\n",
    "\n",
    "models(GBC)"
   ]
  },
  {
   "cell_type": "code",
   "execution_count": 125,
   "id": "4fccaf61",
   "metadata": {},
   "outputs": [
    {
     "name": "stdout",
     "output_type": "stream",
     "text": [
      "Best Accuracy Score corresponding to  0.852\n",
      "Cross Validation Score :  0.8089999999999999\n",
      "Classifiation Report-->\n",
      "\n",
      "               precision    recall  f1-score   support\n",
      "\n",
      "           0       0.80      0.87      0.83       107\n",
      "           1       0.90      0.84      0.87       143\n",
      "\n",
      "    accuracy                           0.85       250\n",
      "   macro avg       0.85      0.85      0.85       250\n",
      "weighted avg       0.86      0.85      0.85       250\n",
      "\n"
     ]
    }
   ],
   "source": [
    "# Random Forest Classifier\n",
    "\n",
    "from sklearn.ensemble import RandomForestClassifier\n",
    "\n",
    "RFC = RandomForestClassifier()\n",
    "\n",
    "models(RFC)"
   ]
  },
  {
   "cell_type": "code",
   "execution_count": 128,
   "id": "3cd134a5",
   "metadata": {},
   "outputs": [
    {
     "name": "stdout",
     "output_type": "stream",
     "text": [
      "Best Accuracy Score corresponding to  0.852\n",
      "Cross Validation Score :  0.8029999999999999\n",
      "Classifiation Report-->\n",
      "\n",
      "               precision    recall  f1-score   support\n",
      "\n",
      "           0       0.80      0.87      0.83       107\n",
      "           1       0.90      0.84      0.87       143\n",
      "\n",
      "    accuracy                           0.85       250\n",
      "   macro avg       0.85      0.85      0.85       250\n",
      "weighted avg       0.86      0.85      0.85       250\n",
      "\n"
     ]
    }
   ],
   "source": [
    "# Bagging Classifier\n",
    "\n",
    "from sklearn.ensemble import BaggingClassifier\n",
    "\n",
    "BC = BaggingClassifier()\n",
    "\n",
    "models(BC)"
   ]
  },
  {
   "cell_type": "markdown",
   "id": "e2392f49",
   "metadata": {},
   "source": [
    "ROC and AUC Curve for the fitted model"
   ]
  },
  {
   "cell_type": "code",
   "execution_count": 129,
   "id": "d4d685b1",
   "metadata": {},
   "outputs": [],
   "source": [
    "x_train,x_test,y_train,y_test = train_test_split(df_x,y,test_size = 0.25, random_state =41)"
   ]
  },
  {
   "cell_type": "code",
   "execution_count": 130,
   "id": "2dbc0399",
   "metadata": {},
   "outputs": [
    {
     "data": {
      "image/png": "[encoded data removed]",
      "text/plain": [
       "<Figure size 432x288 with 1 Axes>"
      ]
     },
     "metadata": {
      "needs_background": "light"
     },
     "output_type": "display_data"
    }
   ],
   "source": [
    "disp = plot_roc_curve(LR, x_test, y_test)\n",
    "plot_roc_curve(DTR, x_test, y_test, ax=disp.ax_)\n",
    "plot_roc_curve(KNC, x_test, y_test, ax=disp.ax_)\n",
    "plot_roc_curve(BC, x_test, y_test, ax=disp.ax_)\n",
    "plot_roc_curve(RFC, x_test, y_test, ax=disp.ax_)\n",
    "plot_roc_curve(GBC, x_test, y_test, ax=disp.ax_)\n",
    "\n",
    "plt.legend(prop={\"size\":10},loc=\"lower right\")\n",
    "plt.show()"
   ]
  },
  {
   "cell_type": "code",
   "execution_count": 131,
   "id": "f95d3526",
   "metadata": {},
   "outputs": [
    {
     "data": {
      "text/plain": [
       "{'intercept_scaling': 1, 'max_iter': 100, 'penalty': 'l2', 'random_state': 81}"
      ]
     },
     "execution_count": 131,
     "metadata": {},
     "output_type": "execute_result"
    }
   ],
   "source": [
    "# Hyperparameter Tuning with Logistic Regression\n",
    "\n",
    "from sklearn.model_selection import GridSearchCV\n",
    "\n",
    "param_grid = {\"penalty\" : ['l1','l2'], \"intercept_scaling\" : [1,2,3],\n",
    "             \"random_state\" : [81,131,151], \"max_iter\" : [100,200]}\n",
    "\n",
    "grid_srch = GridSearchCV(LR, param_grid=param_grid)\n",
    "grid_srch.fit(df_x,y)\n",
    "grid_srch.best_params_"
   ]
  },
  {
   "cell_type": "markdown",
   "id": "0ea7da49",
   "metadata": {},
   "source": [
    "Final Model"
   ]
  },
  {
   "cell_type": "code",
   "execution_count": 132,
   "id": "b613e4fb",
   "metadata": {},
   "outputs": [
    {
     "name": "stdout",
     "output_type": "stream",
     "text": [
      "Best Accuracy Score corresponding to  0.852\n",
      "Classifiation Report-->\n",
      "\n",
      "               precision    recall  f1-score   support\n",
      "\n",
      "           0       0.82      0.83      0.83       107\n",
      "           1       0.87      0.87      0.87       143\n",
      "\n",
      "    accuracy                           0.85       250\n",
      "   macro avg       0.85      0.85      0.85       250\n",
      "weighted avg       0.85      0.85      0.85       250\n",
      "\n"
     ]
    }
   ],
   "source": [
    "Final_Model = LogisticRegression(intercept_scaling=1, max_iter=100, penalty='l2', random_state=81)\n",
    "\n",
    "x_train,x_test,y_train,y_test = train_test_split(df_x,y,test_size = 0.25, random_state =41)\n",
    "Final_Model.fit(x_train,y_train)\n",
    "y_preds = Final_Model.predict(x_test)\n",
    "auc_scr = accuracy_score(y_test, y_preds)\n",
    "print(\"Best Accuracy Score corresponding to \",auc_scr)\n",
    "print(\"Classifiation Report-->\\n\\n\",classification_report(y_test,y_preds))"
   ]
  },
  {
   "cell_type": "raw",
   "id": "05e41ab2",
   "metadata": {},
   "source": [
    "SAVING THE MODEAL"
   ]
  },
  {
   "cell_type": "code",
   "execution_count": 133,
   "id": "f5637802",
   "metadata": {},
   "outputs": [
    {
     "data": {
      "text/plain": [
       "['Final_Titanic_Project_Model.plk']"
      ]
     },
     "execution_count": 133,
     "metadata": {},
     "output_type": "execute_result"
    }
   ],
   "source": [
    "import joblib\n",
    "\n",
    "joblib.dump(Final_Model,\"Final_Titanic_Project_Model.plk\")"
   ]
  },
  {
   "cell_type": "code",
   "execution_count": null,
   "id": "1b376a22",
   "metadata": {},
   "outputs": [],
   "source": []
  },
  {
   "cell_type": "code",
   "execution_count": null,
   "id": "f681ccfc",
   "metadata": {},
   "outputs": [],
   "source": []
  },
  {
   "cell_type": "code",
   "execution_count": null,
   "id": "18caeea5",
   "metadata": {},
   "outputs": [],
   "source": []
  },
  {
   "cell_type": "code",
   "execution_count": null,
   "id": "20c9d606",
   "metadata": {},
   "outputs": [],
   "source": []
  },
  {
   "cell_type": "code",
   "execution_count": null,
   "id": "52f06a30",
   "metadata": {},
   "outputs": [],
   "source": []
  },
  {
   "cell_type": "code",
   "execution_count": null,
   "id": "3daffe2d",
   "metadata": {},
   "outputs": [],
   "source": []
  },
  {
   "cell_type": "code",
   "execution_count": null,
   "id": "ffd9d308",
   "metadata": {},
   "outputs": [],
   "source": []
  },
  {
   "cell_type": "code",
   "execution_count": null,
   "id": "762de3d3",
   "metadata": {},
   "outputs": [],
   "source": []
  },
  {
   "cell_type": "code",
   "execution_count": null,
   "id": "fad5c94f",
   "metadata": {},
   "outputs": [],
   "source": []
  },
  {
   "cell_type": "code",
   "execution_count": null,
   "id": "3b625441",
   "metadata": {},
   "outputs": [],
   "source": []
  },
  {
   "cell_type": "code",
   "execution_count": null,
   "id": "beadffb7",
   "metadata": {},
   "outputs": [],
   "source": []
  }
 ],
 "metadata": {
  "kernelspec": {
   "display_name": "Python 3 (ipykernel)",
   "language": "python",
   "name": "python3"
  },
  "language_info": {
   "codemirror_mode": {
    "name": "ipython",
    "version": 3
   },
   "file_extension": ".py",
   "mimetype": "text/x-python",
   "name": "python",
   "nbconvert_exporter": "python",
   "pygments_lexer": "ipython3",
   "version": "3.9.12"
  }
 },
 "nbformat": 4,
 "nbformat_minor": 5
}
